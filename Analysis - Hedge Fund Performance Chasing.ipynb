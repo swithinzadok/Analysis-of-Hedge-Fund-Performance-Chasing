{
 "cells": [
  {
   "cell_type": "markdown",
   "metadata": {},
   "source": [
    "## Performance Chasing"
   ]
  },
  {
   "cell_type": "code",
   "execution_count": 131,
   "metadata": {},
   "outputs": [],
   "source": [
    "import pandas as pd\n",
    "import numpy as np\n",
    "import matplotlib.pyplot as plt"
   ]
  },
  {
   "cell_type": "code",
   "execution_count": 132,
   "metadata": {},
   "outputs": [],
   "source": [
    "df = pd.read_csv('Kapil_Data.csv')\n",
    "df['Date'] = pd.to_datetime(df['Date'])"
   ]
  },
  {
   "cell_type": "code",
   "execution_count": 133,
   "metadata": {},
   "outputs": [],
   "source": [
    "def giveSharpe(fund):    \n",
    "    AnnualizedReturn = np.prod(fund['Rate of Return'].div(100) +1)-1\n",
    "\n",
    "    AnnualizedStd = np.std(fund['Rate of Return'].div(100))*np.sqrt(12)\n",
    "\n",
    "    return AnnualizedReturn/AnnualizedStd"
   ]
  },
  {
   "cell_type": "code",
   "execution_count": 134,
   "metadata": {},
   "outputs": [],
   "source": [
    "#Combined Function\n",
    "#gives dataframe of top ranked funds and fund names\n",
    "def rankFundsOnSharpe_2(year, prev_year_funds = False):\n",
    "    #Filtering data outside these dates\n",
    "    mask = (df['Date'] >= str(year) + '-01-01') & (df['Date'] <= str(year) + '-12-31')\n",
    "\n",
    "    df_live_funds = df.loc[mask] # hedge funds that have reported from  1/1/2008 – 12/31/2017\n",
    "\n",
    "    #df_mask\n",
    "\n",
    "    #df_mask[df_mask['Fund Name'] == 'Fund-21']\n",
    "\n",
    "    # Should not remove Graveyard funds\n",
    "\n",
    "    #df_live_funds = df_mask[df_mask['Live or Graveyard Fund'] == 'Live']\n",
    "\n",
    "    #Choosing Funds that only have return for all the months under that 10 year period\n",
    "\n",
    "    months = np.arange(1,13)\n",
    "    years = [year]\n",
    "    YearAndMonth = []\n",
    "    for year in years:\n",
    "        for month in months:\n",
    "            YearAndMonth.append([year, month])\n",
    "\n",
    "\n",
    "    funds = df_live_funds['Fund Name'].unique()\n",
    "\n",
    "    Returns_year_month = {}\n",
    "    for fund in funds:\n",
    "        for date in df_live_funds[df_live_funds['Fund Name'] == fund][\"Date\"]:\n",
    "            Returns_year_month.setdefault(fund, []).append([date.year, date.month])\n",
    "\n",
    "    removeFunds = []\n",
    "    for fund, ym in Returns_year_month.items():\n",
    "        if Returns_year_month[fund] != YearAndMonth:\n",
    "            removeFunds.append(fund)\n",
    "\n",
    "    #Returns_year_month\n",
    "\n",
    "    #len(removeFunds)\n",
    "\n",
    "    active_funds = set(funds) - set(removeFunds)\n",
    "\n",
    "    #len(active_funds)\n",
    "\n",
    "    #removeFunds\n",
    "\n",
    "    #https://cmdlinetips.com/2018/02/how-to-subset-pandas-dataframe-based-on-values-of-a-column/\n",
    "    # use the isin() for filtering df based on a list of values in a column\n",
    "    df_active_funds = df_live_funds[df_live_funds['Fund Name'].isin(active_funds)]\n",
    "    \n",
    "    # Create a dictionary of DataFrames Fundwise\n",
    "    df_af = df_active_funds[['Fund Name', 'Date', 'Rate of Return', 'NAV']].copy()\n",
    "\n",
    "    #df_af.describe()\n",
    "\n",
    "    #len(df_af)\n",
    "    #len(df_af['Fund Name'].unique())\n",
    "\n",
    "    funds = df_af['Fund Name'].unique()\n",
    "    fund_separated = {}##Dictionary with Key: Fund Name and Value : dataframe\n",
    "\n",
    "    for fund in funds:\n",
    "        fund_separated[fund] = df_af[df_af['Fund Name'] == fund]\n",
    "    \n",
    "    fund_Sharpe = [[str(fund), giveSharpe(fund_df)] for fund, fund_df in fund_separated.items()]\n",
    "    sharpe_df = pd.DataFrame(fund_Sharpe, columns = ['Fund', 'Sharpe'])\n",
    "\n",
    "    #assigning a percentile ranking\n",
    "    sharpe_df['Rank']= sharpe_df.Sharpe.rank(pct=True , ascending = False).mul(100)\n",
    "\n",
    "    ranked_funds = sharpe_df.sort_values('Rank', ascending = True)\n",
    "    if prev_year_funds:\n",
    "        ranked_prevYear_Funds = ranked_funds[ranked_funds['Fund'].isin(prev_year_funds)]\n",
    "\n",
    "        closed_prev_funds = set(prev_year_funds) - set(ranked_prevYear_Funds['Fund'].unique())\n",
    "\n",
    "        closed_prev_funds_ranking = []\n",
    "        for fund in list(closed_prev_funds):\n",
    "            closed_prev_funds_ranking.append([fund, -999, 100])\n",
    "\n",
    "        all_prevFunds_ranking = ranked_prevYear_Funds.append(pd.DataFrame(closed_prev_funds_ranking, columns = ['Fund', 'Sharpe', 'Rank']), ignore_index = True)\n",
    "        overall_rank = np.mean(all_prevFunds_ranking['Rank'])\n",
    "    \n",
    "    else:\n",
    "        overall_rank = 'not calculated'\n",
    "    top10percentRankedFunds_df = ranked_funds[:int(len(ranked_funds)/10)]\n",
    "    funds_to_consider_next = [fund for fund in top10percentRankedFunds_df['Fund']]\n",
    "    #return top10percentRankedFunds_df , funds_to_consider_next\n",
    "    return funds_to_consider_next, overall_rank"
   ]
  },
  {
   "cell_type": "code",
   "execution_count": 135,
   "metadata": {},
   "outputs": [],
   "source": [
    "funds = False\n",
    "year = np.arange(1995, 2006)"
   ]
  },
  {
   "cell_type": "code",
   "execution_count": 136,
   "metadata": {},
   "outputs": [
    {
     "name": "stderr",
     "output_type": "stream",
     "text": [
      "/anaconda3/lib/python3.7/site-packages/ipykernel_launcher.py:6: RuntimeWarning: invalid value encountered in double_scalars\n",
      "  \n",
      "/anaconda3/lib/python3.7/site-packages/ipykernel_launcher.py:6: RuntimeWarning: divide by zero encountered in double_scalars\n",
      "  \n"
     ]
    }
   ],
   "source": [
    "y_rank = []\n",
    "for year in year:\n",
    "    funds, overall_rank = rankFundsOnSharpe_2(year, funds)\n",
    "    y_rank.append(overall_rank)"
   ]
  },
  {
   "cell_type": "code",
   "execution_count": 141,
   "metadata": {},
   "outputs": [
    {
     "data": {
      "image/png": "[encoded data removed]",
      "text/plain": [
       "<Figure size 432x288 with 1 Axes>"
      ]
     },
     "metadata": {
      "needs_background": "light"
     },
     "output_type": "display_data"
    }
   ],
   "source": [
    "years = np.arange(1995, 2006)\n",
    "z = np.polyfit(years[1:], y_rank[1:], 1)\n",
    "p = np.poly1d(z)\n",
    "plt.scatter(years[1:], y_rank[1:])\n",
    "\n",
    "plt.plot(years[1:],p(years[1:]),\"r--\")\n",
    "plt.ylabel('----->bad')\n",
    "plt.title('Performance of Performance-Chasing Hedge Funds from 1996 to 2005')\n",
    "plt.show()"
   ]
  },
  {
   "cell_type": "code",
   "execution_count": null,
   "metadata": {},
   "outputs": [],
   "source": []
  }
 ],
 "metadata": {
  "kernelspec": {
   "display_name": "Python 3",
   "language": "python",
   "name": "python3"
  },
  "language_info": {
   "codemirror_mode": {
    "name": "ipython",
    "version": 3
   },
   "file_extension": ".py",
   "mimetype": "text/x-python",
   "name": "python",
   "nbconvert_exporter": "python",
   "pygments_lexer": "ipython3",
   "version": "3.7.3"
  }
 },
 "nbformat": 4,
 "nbformat_minor": 2
}
